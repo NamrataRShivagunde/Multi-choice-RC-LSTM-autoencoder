{
  "nbformat": 4,
  "nbformat_minor": 0,
  "metadata": {
    "colab": {
      "name": "autoencoder_classifier.ipynb",
      "provenance": [],
      "collapsed_sections": []
    },
    "kernelspec": {
      "name": "python3",
      "display_name": "Python 3"
    },
    "language_info": {
      "name": "python"
    },
    "accelerator": "GPU"
  },
  "cells": [
    {
      "cell_type": "code",
      "metadata": {
        "id": "YzDlmiY5yGcs"
      },
      "source": [
        "import pandas as pd\n",
        "import numpy as np\n",
        "import matplotlib.pyplot as plt\n"
      ],
      "execution_count": 1,
      "outputs": []
    },
    {
      "cell_type": "code",
      "metadata": {
        "colab": {
          "base_uri": "https://localhost:8080/"
        },
        "id": "V-09SGWbvymb",
        "outputId": "71eef4e3-7dcb-46f0-a15e-3f57360a85bc"
      },
      "source": [
        "labels = np.loadtxt('labels.txt')\n",
        "print(len(labels))"
      ],
      "execution_count": 2,
      "outputs": [
        {
          "output_type": "stream",
          "text": [
            "10246\n"
          ],
          "name": "stdout"
        }
      ]
    },
    {
      "cell_type": "code",
      "metadata": {
        "id": "RzxgrcrpN1fh"
      },
      "source": [
        "p_emb = np.load('para.npy')\n",
        "q_emb = np.load('q.npy')\n",
        "a1_emb = np.load('a1.npy')\n",
        "a2_emb = np.load('a2.npy')\n",
        "a3_emb = np.load('a3.npy')\n",
        "a4_emb = np.load('a4.npy')\n",
        "labels = np.loadtxt('labels.txt')\n",
        "data_split = 0.8"
      ],
      "execution_count": 3,
      "outputs": []
    },
    {
      "cell_type": "code",
      "metadata": {
        "colab": {
          "base_uri": "https://localhost:8080/"
        },
        "id": "kf74qs38x3u7",
        "outputId": "3f401c1d-3142-4d5f-b652-fe4fb1a926ac"
      },
      "source": [
        "q_emb.shape"
      ],
      "execution_count": 4,
      "outputs": [
        {
          "output_type": "execute_result",
          "data": {
            "text/plain": [
              "(10246, 1000)"
            ]
          },
          "metadata": {
            "tags": []
          },
          "execution_count": 4
        }
      ]
    },
    {
      "cell_type": "code",
      "metadata": {
        "id": "3cT9PfboWzcU"
      },
      "source": [
        "from sklearn.linear_model import LogisticRegression\n",
        "import numpy as np\n",
        "from sklearn.metrics import accuracy_score\n",
        "\n",
        "def classifier(p_emb,q_emb,a1_emb,a2_emb,a3_emb,a4_emb,labels,data_split):\n",
        "      print(\"p_emb,q_emb,a1_emb,a2_emb,a3_emb,a4_emb each shape must be (number of samples, size of embedding)\")\n",
        "      print(\"labels size must be (number of samples, )\")\n",
        "      print(\"paragraph embedding size = \", p_emb.shape)\n",
        "      print(\"given question embedding size = \", q_emb.shape)\n",
        "      print(\"given answer 1 embedding size = \", a1_emb.shape)\n",
        "      print(\"given answer 2 embedding size = \", a2_emb.shape)\n",
        "      print(\"given answer 3 embedding size = \", a3_emb.shape)\n",
        "      print(\"given answer 4 embedding size = \", a4_emb.shape)\n",
        "      print(\"given labels numpy file size = \", labels.shape)\n",
        "      X = np.concatenate((p_emb, q_emb, a1_emb, a2_emb,a3_emb,a4_emb),axis=1)\n",
        "      y = np.array(labels)  \n",
        "      n = y.shape[0]\n",
        "      data_split_index = int(np.ceil(n*data_split))\n",
        "      X_train = np.array(X[:data_split_index])\n",
        "      y_train = np.array(y[:data_split_index])\n",
        "      X_test = np.array(X[data_split_index:])\n",
        "      y_test = np.array(y[data_split_index:])\n",
        "\n",
        "      clf = LogisticRegression(random_state=0,max_iter=500)\n",
        "      clf.fit(X_train, y_train)\n",
        "      y_pred = clf.predict(X_test)\n",
        "\n",
        "      print(\"Accuracy of the Model is = \", accuracy_score(y_test, y_pred))"
      ],
      "execution_count": 5,
      "outputs": []
    },
    {
      "cell_type": "code",
      "metadata": {
        "colab": {
          "base_uri": "https://localhost:8080/"
        },
        "id": "Cr3qn1UWn4cD",
        "outputId": "bf3db1e2-bdbb-4062-e49a-8dd86ae4d5dd"
      },
      "source": [
        "classifier(p_emb,q_emb,a1_emb,a2_emb,a3_emb,a4_emb,labels,data_split)"
      ],
      "execution_count": 6,
      "outputs": [
        {
          "output_type": "stream",
          "text": [
            "p_emb,q_emb,a1_emb,a2_emb,a3_emb,a4_emb each shape must be (number of samples, size of embedding)\n",
            "labels size must be (number of samples, )\n",
            "paragraph embedding size =  (10246, 1000)\n",
            "given question embedding size =  (10246, 1000)\n",
            "given answer 1 embedding size =  (10246, 1000)\n",
            "given answer 2 embedding size =  (10246, 1000)\n",
            "given answer 3 embedding size =  (10246, 1000)\n",
            "given answer 4 embedding size =  (10246, 1000)\n",
            "given labels numpy file size =  (10246,)\n",
            "Accuracy of the Model is =  0.3064909712054661\n"
          ],
          "name": "stdout"
        },
        {
          "output_type": "stream",
          "text": [
            "/usr/local/lib/python3.7/dist-packages/sklearn/linear_model/_logistic.py:940: ConvergenceWarning: lbfgs failed to converge (status=1):\n",
            "STOP: TOTAL NO. of ITERATIONS REACHED LIMIT.\n",
            "\n",
            "Increase the number of iterations (max_iter) or scale the data as shown in:\n",
            "    https://scikit-learn.org/stable/modules/preprocessing.html\n",
            "Please also refer to the documentation for alternative solver options:\n",
            "    https://scikit-learn.org/stable/modules/linear_model.html#logistic-regression\n",
            "  extra_warning_msg=_LOGISTIC_SOLVER_CONVERGENCE_MSG)\n"
          ],
          "name": "stderr"
        }
      ]
    },
    {
      "cell_type": "code",
      "metadata": {
        "colab": {
          "base_uri": "https://localhost:8080/"
        },
        "id": "L4ZUdDpSk5v9",
        "outputId": "256e7a5e-6a34-4edc-9513-bbd7fd502e12"
      },
      "source": [
        "%tensorflow_version 2.x\n",
        "import tensorflow as tf\n",
        "device_name = tf.test.gpu_device_name()\n",
        "if device_name != '/device:GPU:0':\n",
        "  raise SystemError('GPU device not found')\n",
        "print('Found GPU at: {}'.format(device_name))"
      ],
      "execution_count": 7,
      "outputs": [
        {
          "output_type": "stream",
          "text": [
            "Found GPU at: /device:GPU:0\n"
          ],
          "name": "stdout"
        }
      ]
    },
    {
      "cell_type": "code",
      "metadata": {
        "id": "NcELtDbRRYIT"
      },
      "source": [
        "#MLP classifier\n",
        "import numpy as np\n",
        "from keras.utils.np_utils import to_categorical\n",
        "from keras.models import Sequential\n",
        "from keras.layers import Dense\n",
        "from keras.optimizers import Adam\n",
        "from keras.optimizers import SGD\n",
        "from keras.regularizers import l2\n",
        "from keras.layers import Dropout\n",
        "from keras.layers import BatchNormalization\n",
        "\n",
        "def nn_classifier(p_emb,q_emb,a1_emb,a2_emb,a3_emb,a4_emb,labels,data_split):\n",
        "      print(\"p_emb,q_emb,a1_emb,a2_emb,a3_emb,a4_emb each shape must be (number of samples, size of embedding)\")\n",
        "      print(\"labels size must be (number of samples, )\")\n",
        "      print(\"paragraph embedding size = \", p_emb.shape)\n",
        "      print(\"given question embedding size = \", q_emb.shape)\n",
        "      print(\"given answer 1 embedding size = \", a1_emb.shape)\n",
        "      print(\"given answer 2 embedding size = \", a2_emb.shape)\n",
        "      print(\"given answer 3 embedding size = \", a3_emb.shape)\n",
        "      print(\"given answer 4 embedding size = \", a4_emb.shape)\n",
        "      print(\"given labels numpy file size = \", labels.shape)\n",
        "      X = np.concatenate((p_emb, q_emb, a1_emb, a2_emb,a3_emb,a4_emb),axis=1)\n",
        "      X -=np.mean(X,axis =0)\n",
        "      X /=np.std(X,axis=0)\n",
        "      y = np.array(labels)  \n",
        "      n = y.shape[0]\n",
        "      data_split_index = int(np.ceil(n*data_split))\n",
        "      X_train = np.array(X[:data_split_index])\n",
        "      y_train = np.array(y[:data_split_index])\n",
        "      X_test = np.array(X[data_split_index:])\n",
        "      y_test = np.array(y[data_split_index:])\n",
        "\n",
        "\n",
        "      # one hot encoding for labels in Network model \n",
        "      categorical_labels = to_categorical(y_train, num_classes=4)\n",
        "      categorical_labels_test = to_categorical(y_test, num_classes=4)\n",
        "\n",
        "      model = Sequential()\n",
        "      model.add(Dense(128, input_shape=(X_train.shape[1],), activation='relu', kernel_regularizer=l2(0.04), bias_regularizer=l2(0.04),kernel_initializer='GlorotUniform'))\n",
        "      model.add(Dropout(0.4))\n",
        "      model.add(BatchNormalization())\n",
        "      model.add(Dense(64, activation='relu',kernel_regularizer=l2(0.04), bias_regularizer=l2(0.04),kernel_initializer='GlorotUniform'))\n",
        "      #model.add(Dropout(0.2))\n",
        "      model.add(Dense(32, activation='relu',kernel_regularizer=l2(0.04), bias_regularizer=l2(0.04),kernel_initializer='GlorotUniform'))\n",
        "      model.add(Dense(8, activation='relu',kernel_regularizer=l2(0.04), bias_regularizer=l2(0.04),kernel_initializer='GlorotUniform'))\n",
        "      model.add(Dense(4, activation='softmax')) \n",
        "\n",
        "      #opt = Adam(lr=0.00006)\n",
        "      opt = Adam(lr=0.00005)\n",
        "      model.compile(loss='mse', optimizer=opt, metrics=['accuracy'])\n",
        "      model.summary()\n",
        "\n",
        "      history = model.fit(X_train, categorical_labels, validation_data=(X_test, categorical_labels_test), epochs=25, batch_size=64)\n",
        "      # summarize history for accuracy\n",
        "      plt.plot(history.history['accuracy'])\n",
        "      plt.plot(history.history['val_accuracy'])\n",
        "      plt.title('model accuracy')\n",
        "      plt.ylabel('accuracy')\n",
        "      plt.xlabel('epoch')\n",
        "      plt.legend(['train', 'test'], loc='upper left')\n",
        "      plt.show()\n",
        "      # summarize history for loss\n",
        "      plt.plot(history.history['loss'])\n",
        "      plt.plot(history.history['val_loss'])\n",
        "      plt.title('model loss')\n",
        "      plt.ylabel('loss')\n",
        "      plt.xlabel('epoch')\n",
        "      plt.legend(['train', 'test'], loc='upper left')\n",
        "      plt.show()\n",
        "      #categorical_crossentropy"
      ],
      "execution_count": 8,
      "outputs": []
    },
    {
      "cell_type": "code",
      "metadata": {
        "colab": {
          "base_uri": "https://localhost:8080/",
          "height": 1000
        },
        "id": "xIgdJH9iyHak",
        "outputId": "a71b7fa9-2294-4d81-dd2b-1714cb0194d6"
      },
      "source": [
        "data_split = 0.80\n",
        "nn_classifier(p_emb,q_emb,a1_emb,a2_emb,a3_emb,a4_emb,labels,data_split)\n"
      ],
      "execution_count": 9,
      "outputs": [
        {
          "output_type": "stream",
          "text": [
            "p_emb,q_emb,a1_emb,a2_emb,a3_emb,a4_emb each shape must be (number of samples, size of embedding)\n",
            "labels size must be (number of samples, )\n",
            "paragraph embedding size =  (10246, 1000)\n",
            "given question embedding size =  (10246, 1000)\n",
            "given answer 1 embedding size =  (10246, 1000)\n",
            "given answer 2 embedding size =  (10246, 1000)\n",
            "given answer 3 embedding size =  (10246, 1000)\n",
            "given answer 4 embedding size =  (10246, 1000)\n",
            "given labels numpy file size =  (10246,)\n",
            "Model: \"sequential\"\n",
            "_________________________________________________________________\n",
            "Layer (type)                 Output Shape              Param #   \n",
            "=================================================================\n",
            "dense (Dense)                (None, 128)               768128    \n",
            "_________________________________________________________________\n",
            "dropout (Dropout)            (None, 128)               0         \n",
            "_________________________________________________________________\n",
            "batch_normalization (BatchNo (None, 128)               512       \n",
            "_________________________________________________________________\n",
            "dense_1 (Dense)              (None, 64)                8256      \n",
            "_________________________________________________________________\n",
            "dense_2 (Dense)              (None, 32)                2080      \n",
            "_________________________________________________________________\n",
            "dense_3 (Dense)              (None, 8)                 264       \n",
            "_________________________________________________________________\n",
            "dense_4 (Dense)              (None, 4)                 36        \n",
            "=================================================================\n",
            "Total params: 779,276\n",
            "Trainable params: 779,020\n",
            "Non-trainable params: 256\n",
            "_________________________________________________________________\n",
            "Epoch 1/25\n",
            "129/129 [==============================] - 5s 8ms/step - loss: 14.4068 - accuracy: 0.2300 - val_loss: 10.8237 - val_accuracy: 0.2738\n",
            "Epoch 2/25\n",
            "129/129 [==============================] - 1s 5ms/step - loss: 9.9707 - accuracy: 0.2633 - val_loss: 7.8136 - val_accuracy: 0.2855\n",
            "Epoch 3/25\n",
            "129/129 [==============================] - 1s 5ms/step - loss: 7.2954 - accuracy: 0.2880 - val_loss: 5.9821 - val_accuracy: 0.2962\n",
            "Epoch 4/25\n",
            "129/129 [==============================] - 1s 5ms/step - loss: 5.6600 - accuracy: 0.3164 - val_loss: 4.8401 - val_accuracy: 0.3128\n",
            "Epoch 5/25\n",
            "129/129 [==============================] - 1s 4ms/step - loss: 4.6312 - accuracy: 0.3546 - val_loss: 4.0951 - val_accuracy: 0.3109\n",
            "Epoch 6/25\n",
            "129/129 [==============================] - 1s 5ms/step - loss: 3.9496 - accuracy: 0.3647 - val_loss: 3.5739 - val_accuracy: 0.3255\n",
            "Epoch 7/25\n",
            "129/129 [==============================] - 1s 5ms/step - loss: 3.4649 - accuracy: 0.3604 - val_loss: 3.1798 - val_accuracy: 0.3260\n",
            "Epoch 8/25\n",
            "129/129 [==============================] - 1s 5ms/step - loss: 3.0917 - accuracy: 0.3669 - val_loss: 2.8631 - val_accuracy: 0.3314\n",
            "Epoch 9/25\n",
            "129/129 [==============================] - 1s 5ms/step - loss: 2.7863 - accuracy: 0.3787 - val_loss: 2.5928 - val_accuracy: 0.3348\n",
            "Epoch 10/25\n",
            "129/129 [==============================] - 1s 5ms/step - loss: 2.5259 - accuracy: 0.3815 - val_loss: 2.3565 - val_accuracy: 0.3328\n",
            "Epoch 11/25\n",
            "129/129 [==============================] - 1s 5ms/step - loss: 2.2956 - accuracy: 0.4008 - val_loss: 2.1462 - val_accuracy: 0.3133\n",
            "Epoch 12/25\n",
            "129/129 [==============================] - 1s 5ms/step - loss: 2.0899 - accuracy: 0.3932 - val_loss: 1.9540 - val_accuracy: 0.3402\n",
            "Epoch 13/25\n",
            "129/129 [==============================] - 1s 5ms/step - loss: 1.9035 - accuracy: 0.4043 - val_loss: 1.7808 - val_accuracy: 0.3377\n",
            "Epoch 14/25\n",
            "129/129 [==============================] - 1s 5ms/step - loss: 1.7345 - accuracy: 0.4037 - val_loss: 1.6233 - val_accuracy: 0.3270\n",
            "Epoch 15/25\n",
            "129/129 [==============================] - 1s 5ms/step - loss: 1.5809 - accuracy: 0.4058 - val_loss: 1.4799 - val_accuracy: 0.3216\n",
            "Epoch 16/25\n",
            "129/129 [==============================] - 1s 5ms/step - loss: 1.4403 - accuracy: 0.4018 - val_loss: 1.3483 - val_accuracy: 0.3289\n",
            "Epoch 17/25\n",
            "129/129 [==============================] - 1s 5ms/step - loss: 1.3135 - accuracy: 0.4013 - val_loss: 1.2290 - val_accuracy: 0.3265\n",
            "Epoch 18/25\n",
            "129/129 [==============================] - 1s 5ms/step - loss: 1.1973 - accuracy: 0.4075 - val_loss: 1.1213 - val_accuracy: 0.3265\n",
            "Epoch 19/25\n",
            "129/129 [==============================] - 1s 5ms/step - loss: 1.0920 - accuracy: 0.4157 - val_loss: 1.0233 - val_accuracy: 0.3275\n",
            "Epoch 20/25\n",
            "129/129 [==============================] - 1s 5ms/step - loss: 0.9969 - accuracy: 0.4043 - val_loss: 0.9345 - val_accuracy: 0.3289\n",
            "Epoch 21/25\n",
            "129/129 [==============================] - 1s 5ms/step - loss: 0.9113 - accuracy: 0.3994 - val_loss: 0.8541 - val_accuracy: 0.3353\n",
            "Epoch 22/25\n",
            "129/129 [==============================] - 1s 4ms/step - loss: 0.8329 - accuracy: 0.3938 - val_loss: 0.7816 - val_accuracy: 0.3270\n",
            "Epoch 23/25\n",
            "129/129 [==============================] - 1s 4ms/step - loss: 0.7629 - accuracy: 0.3834 - val_loss: 0.7165 - val_accuracy: 0.3289\n",
            "Epoch 24/25\n",
            "129/129 [==============================] - 1s 5ms/step - loss: 0.6998 - accuracy: 0.3805 - val_loss: 0.6578 - val_accuracy: 0.3397\n",
            "Epoch 25/25\n",
            "129/129 [==============================] - 1s 4ms/step - loss: 0.6427 - accuracy: 0.3696 - val_loss: 0.6052 - val_accuracy: 0.3231\n"
          ],
          "name": "stdout"
        },
        {
          "output_type": "display_data",
          "data": {
            "image/png": "[encoded data removed]",
            "text/plain": [
              "<Figure size 432x288 with 1 Axes>"
            ]
          },
          "metadata": {
            "tags": [],
            "needs_background": "light"
          }
        },
        {
          "output_type": "display_data",
          "data": {
            "image/png": "[encoded data removed]",
            "text/plain": [
              "<Figure size 432x288 with 1 Axes>"
            ]
          },
          "metadata": {
            "tags": [],
            "needs_background": "light"
          }
        }
      ]
    },
    {
      "cell_type": "code",
      "metadata": {
        "id": "V_AU2-Zv4Jnh"
      },
      "source": [
        "\n"
      ],
      "execution_count": 9,
      "outputs": []
    }
  ]
}